{
 "cells": [
  {
   "cell_type": "markdown",
   "metadata": {},
   "source": [
    "# CS224N: PyTorch Tutorial (Winter '21)\n",
    "\n",
    "### Author: Dilara Soylu\n",
    "In this notebook, we will have a basic introduction to PyTorch and work on a toy NLP task. Following resources have been used in preparation of this notebook:\n",
    "\n",
    "\"Word Window Classification\" tutorial notebook by Matt Lamm, from Winter 2020 offering of CS224N\n",
    "Official PyTorch Documentation on Deep Learning with PyTorch: A 60 Minute Blitz by Soumith Chintala\n",
    "PyTorch Tutorial Notebook, Build Basic Generative Adversarial Networks (GANs) | Coursera by Sharon Zhou, offered on Coursera\n",
    "Many thanks to Angelica Sun and John Hewitt for their feedback."
   ]
  }
 ],
 "metadata": {
  "language_info": {
   "name": "python"
  },
  "orig_nbformat": 4
 },
 "nbformat": 4,
 "nbformat_minor": 2
}
